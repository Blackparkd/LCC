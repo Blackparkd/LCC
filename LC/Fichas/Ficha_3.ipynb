{
 "cells": [
  {
   "cell_type": "markdown",
   "id": "95aa9b02",
   "metadata": {},
   "source": [
    "# Sobre linearidade\n",
    "\n",
    "Os problemas que temos visto de Programação Inteira tem por objectivo calcular uma solução (ou a melhor solução, no caso de ser um problema de optimização) para um problema modelado como um conjunto de relações *lineares*, i.e., onde só são permitidas multiplicações em que um dos factores é constante.\n",
    "O relaxamento desta condição torna o problema muito mais difícil, e muitos solvers não lhe conseguem dar resposta, ou apenas conseguem responder em situações muito limitadas."
   ]
  },
  {
   "cell_type": "markdown",
   "id": "7894c5ee",
   "metadata": {},
   "source": [
    "### Exercício 1\n",
    "\n",
    "Considere o exemplo de utilização do SCIP para encontrar $x$ e $y$ que minimizem $3x+4y$ satisfazendo as seguintes restrições:\n",
    "\n",
    "$$\n",
    "\\left\\{\n",
    "\\begin{array}{l}\n",
    "5x + 6y \\leq 200\\\\\n",
    "2x + 80y \\ge 150\\\\\n",
    "0 \\leq x \\leq 100\\\\\n",
    "0 \\leq y \\leq 100\n",
    "\\end{array}\n",
    "\\right.\n",
    "$$"
   ]
  },
  {
   "cell_type": "code",
   "execution_count": 1,
   "id": "b4942c65",
   "metadata": {},
   "outputs": [
    {
     "name": "stdout",
     "output_type": "stream",
     "text": [
      "x =  0\n",
      "y =  2\n",
      "objectivo =  8\n"
     ]
    }
   ],
   "source": [
    "from ortools.linear_solver import pywraplp\n",
    "\n",
    "solver = pywraplp.Solver.CreateSolver('SCIP')\n",
    "\n",
    "x = solver.IntVar(0.0,100,\"x\")\n",
    "y = solver.IntVar(0.0,100,\"y\")\n",
    "\n",
    "solver.Add(5*x + 6*y <= 200)\n",
    "solver.Add(2*x + 80*y >= 150)\n",
    "#solver.Add(x*y >= 1) não funciona por ser variável x  variável. o SCIP não suporta\n",
    "solver.Minimize(3*x + 4*y)\n",
    "\n",
    "status = solver.Solve()\n",
    "\n",
    "if status == pywraplp.Solver.OPTIMAL:\n",
    "    print (\"x = \",round(x.solution_value()))\n",
    "    print (\"y = \",round(y.solution_value()))\n",
    "    print (\"objectivo = \",round(solver.Objective().Value()))\n",
    "else:\n",
    "    print('No solution found.')"
   ]
  },
  {
   "cell_type": "markdown",
   "id": "f4d80707",
   "metadata": {},
   "source": [
    "Altere o programa de forma a acrescentar a restrição (não linear)  $ x y \\ge 1$ e veja como ele se comporta."
   ]
  },
  {
   "cell_type": "code",
   "execution_count": 2,
   "id": "0e5fd818",
   "metadata": {},
   "outputs": [],
   "source": [
    "# completar\n",
    "#solver.Add(x*y >= 1) não funciona por ser variável x  variável. o SCIP não suporta"
   ]
  },
  {
   "cell_type": "markdown",
   "id": "5064c8d0",
   "metadata": {},
   "source": [
    "Como se deve ter apercebido, o *wrapper* do SCIP assinala logo um erro de tipo, não perminido assim o produto de duas variáveis. \n",
    "O OR-Tools disponibiliza outras ferramentas de programação inteira que permitem este tipo de restrições, como é o caso do [CP-SAT solver](https://developers.google.com/optimization/cp/cp_solver)."
   ]
  },
  {
   "cell_type": "markdown",
   "id": "18824b4e",
   "metadata": {},
   "source": [
    "## CP-SAT solver\n",
    "\n",
    "O CP-SAT solver é uma ferramenta de programação inteira do OR-Tools que consegue lidar com a multiplicação de variáveis, embora de uma forma especial. \n",
    "\n",
    "A forma de interagir com o CP-SAT difere em alguns detalhes da do SCIP. Para ilustrar isso, apresentamos a seguir  a resolução comentada do exercício 1 em CP-SAT. Para executar este código é necessária a biblioteca pandas, que pode instalar utilizando o comando `pip install pandas`. "
   ]
  },
  {
   "cell_type": "code",
   "execution_count": 3,
   "id": "339be546",
   "metadata": {},
   "outputs": [
    {
     "name": "stdout",
     "output_type": "stream",
     "text": [
      "x = 0\n",
      "y = 2\n",
      "objectivo =  8\n"
     ]
    }
   ],
   "source": [
    "# Importar biblioteca\n",
    "from ortools.sat.python import cp_model\n",
    "\n",
    "# Cria o modelo CP-SAT\n",
    "model = cp_model.CpModel()   # cp- constraint programming\n",
    "\n",
    "# Cria as variáveis\n",
    "x = model.NewIntVar(0, 100, 'x')\n",
    "y = model.NewIntVar(0, 100, 'y')\n",
    "\n",
    "# Adiciona as restrições ao modelo\n",
    "model.Add(5*x + 6*y <= 200)  # restrições diretamente ao modelo, e não ao solver\n",
    "model.Add(2*x + 80*y >= 150)\n",
    "\n",
    "# Define o objectivo\n",
    "model.Minimize(3*x + 4*y)\n",
    "\n",
    "# Cria um solver CP-SAT a solver and solves the model.\n",
    "solver = cp_model.CpSolver()  # solver criado a partir do modelo, em vez de no início\n",
    "\n",
    "# Invoca o solver com o modelo criado\n",
    "status = solver.Solve(model)\n",
    "\n",
    "# Interpreta os resultados\n",
    "if status == cp_model.OPTIMAL or status == cp_model.FEASIBLE:\n",
    "    print('x = %i' % solver.Value(x))\n",
    "    print('y = %i' % solver.Value(y))\n",
    "    print (\"objectivo = \", int(solver.ObjectiveValue()))\n",
    "else:\n",
    "    print('No solution found.')"
   ]
  },
  {
   "cell_type": "markdown",
   "id": "3e182b91",
   "metadata": {},
   "source": [
    "Se tentar acrescentar a restrição $x y\\ge 1$ através de `model.Add(x*y <= 1)` verá que obtém também um erro de tipo.\n",
    "No CP-SAT a multiplicação de variáveis tem um tratamento especial.\n",
    "\n",
    "A multiplicação de variáveis no CP-SAT não é uma operação como a multiplicação de um escalar por uma variável. Para cada multiplicação de variáveis é necessário criar uma variável adicional que representa essa multiplicação. É depois esta nova variável que entra nas restrições que são acrescentadas."
   ]
  },
  {
   "cell_type": "code",
   "execution_count": 4,
   "id": "3206eabf",
   "metadata": {},
   "outputs": [
    {
     "name": "stdout",
     "output_type": "stream",
     "text": [
      "x = 1\n",
      "y = 2\n",
      "objectivo =  11\n"
     ]
    }
   ],
   "source": [
    "# Importar biblioteca\n",
    "from ortools.sat.python import cp_model\n",
    "\n",
    "# Cria o modelo CP-SAT\n",
    "model = cp_model.CpModel()\n",
    "\n",
    "# Cria as variáveis\n",
    "x = model.NewIntVar(0, 100, 'x')\n",
    "y = model.NewIntVar(0, 100, 'y')\n",
    "\n",
    "# Adiciona as restrições ao modelo\n",
    "model.Add(5*x + 6*y <= 200)\n",
    "model.Add(2*x + 80*y >= 150)\n",
    "\n",
    "# Cria uma variável adicional que representa a multiplicação das variáveis\n",
    "xy = model.NewIntVar(0, 100*100, \"xy\")                       # NESTE PONTO!!, o solver sabe que é uma nova variável\n",
    "model.AddMultiplicationEquality(xy, [x,y])  # xy = x*y       # não tem correlação com a var x e a var y\n",
    "# Acescenta a restrição x*y>=1\n",
    "model.Add(xy >= 1)\n",
    "\n",
    "# Define o objectivo\n",
    "model.Minimize(3*x + 4*y)\n",
    "\n",
    "# Cria um solver CP-SAT a solver and solves the model.\n",
    "solver = cp_model.CpSolver()\n",
    "\n",
    "# Invoca o solver com o modelo criado\n",
    "status = solver.Solve(model)\n",
    "\n",
    "# Interpreta os resultados\n",
    "if status == cp_model.OPTIMAL or status == cp_model.FEASIBLE:\n",
    "    print('x = %i' % solver.Value(x))\n",
    "    print('y = %i' % solver.Value(y))\n",
    "    print (\"objectivo = \", int(solver.ObjectiveValue()))\n",
    "else:\n",
    "    print('No solution found.')"
   ]
  },
  {
   "cell_type": "markdown",
   "id": "0cd5ab7a",
   "metadata": {},
   "source": [
    "Tem [aqui](https://github.com/d-krupke/cpsat-primer) um breve tutorial do CP-SAT."
   ]
  },
  {
   "cell_type": "markdown",
   "id": "01606b91",
   "metadata": {},
   "source": [
    "# Mais um problema de optimização linear\n",
    "\n",
    "Um hospital trabalha todos os dias da semana e tem que ter um número mínimo de enfermeiros para assegurar o seu bom funcionamento. Os enfermeiros trabalham em turnos, e há 3 turnos: manhã, tarde ou noite.\n",
    "As regras de funcionamento do hospital, quanto ao corpo de enfermagem, são as seguintes:\n",
    "\n",
    "- Todos os turnos têm pelo menos N enfermeiros.\n",
    "- Os turnos da manhã, por serem mais movimentados, têm no mínimo, mais 30% de enfermeiros do que é exigido nos restantes turnos.\n",
    "- Um enfermeiro não pode trabalhar dois turnos seguidos.\n",
    "- Todos os enfermeiros têm que ter, pelo menos, um dia de folga.\n",
    "\n",
    "Dado o número N de enfermeiros que se quer assegurar por turno, pretende-se saber qual será o números mínimo de enfermeiros que o hospital deve contratar."
   ]
  },
  {
   "cell_type": "markdown",
   "id": "8e48f748",
   "metadata": {},
   "source": [
    "### Exercício 2\n",
    "\n",
    "Faça a análise do problema acima apresentado. Primeiro, indique claramente as variáveis que vai necessitar e a sua interpretação. Depois, escreva formalmente as restrições que modelam o problema. Por fim, defina o objectivo do problema. "
   ]
  },
  {
   "cell_type": "markdown",
   "id": "5f71b6ec",
   "metadata": {},
   "source": [
    "X(m,t) = { 1 if n works t } or { 0 otherwise }\n",
    "$\\newline$\n",
    "m < Nmax     t < 3*7 => t < 21\n",
    "$\\newline$\n",
    "$\\forall_ {t<T}: t$%3 == 0 . $\\sum (m) Xn,t >= 1,3N\\$\n"
   ]
  },
  {
   "cell_type": "markdown",
   "id": "2cba3216",
   "metadata": {},
   "source": [
    "### Exercício 3\n",
    "\n",
    "Codifique em Python uma função `nurses(N)` que calcula o número mínimo de enfermeiros que um hospital deve contratar."
   ]
  },
  {
   "cell_type": "code",
   "execution_count": 6,
   "id": "7e8d83b2",
   "metadata": {},
   "outputs": [
    {
     "ename": "KeyError",
     "evalue": "(3, 0)",
     "output_type": "error",
     "traceback": [
      "\u001b[1;31m---------------------------------------------------------------------------\u001b[0m",
      "\u001b[1;31mKeyError\u001b[0m                                  Traceback (most recent call last)",
      "Cell \u001b[1;32mIn[6], line 16\u001b[0m\n\u001b[0;32m     14\u001b[0m \u001b[38;5;28;01mfor\u001b[39;00m t \u001b[38;5;129;01min\u001b[39;00m \u001b[38;5;28mrange\u001b[39m(T):\n\u001b[0;32m     15\u001b[0m     \u001b[38;5;28;01mif\u001b[39;00m(t\u001b[38;5;241m%\u001b[39m\u001b[38;5;241m3\u001b[39m) \u001b[38;5;241m==\u001b[39m \u001b[38;5;241m0\u001b[39m:\n\u001b[1;32m---> 16\u001b[0m         solver\u001b[38;5;241m.\u001b[39mAdd(\u001b[43msolver\u001b[49m\u001b[38;5;241;43m.\u001b[39;49m\u001b[43mSum\u001b[49m\u001b[43m(\u001b[49m\u001b[43mx\u001b[49m\u001b[43m[\u001b[49m\u001b[43mn\u001b[49m\u001b[43m,\u001b[49m\u001b[43mt\u001b[49m\u001b[43m]\u001b[49m\u001b[43m \u001b[49m\u001b[38;5;28;43;01mfor\u001b[39;49;00m\u001b[43m \u001b[49m\u001b[43mn\u001b[49m\u001b[43m \u001b[49m\u001b[38;5;129;43;01min\u001b[39;49;00m\u001b[43m \u001b[49m\u001b[38;5;28;43mrange\u001b[39;49m\u001b[43m(\u001b[49m\u001b[43mNmax\u001b[49m\u001b[43m)\u001b[49m\u001b[43m)\u001b[49m \u001b[38;5;241m>\u001b[39m\u001b[38;5;241m=\u001b[39m \u001b[38;5;241m1.3\u001b[39m\u001b[38;5;241m*\u001b[39mN )\n\u001b[0;32m     17\u001b[0m     \u001b[38;5;28;01melse\u001b[39;00m:\n\u001b[0;32m     18\u001b[0m         solver\u001b[38;5;241m.\u001b[39mAdd(solver\u001b[38;5;241m.\u001b[39mSum(x[n,t] \u001b[38;5;28;01mfor\u001b[39;00m n \u001b[38;5;129;01min\u001b[39;00m \u001b[38;5;28mrange\u001b[39m(Nmax)) \u001b[38;5;241m>\u001b[39m\u001b[38;5;241m=\u001b[39m N)\n",
      "File \u001b[1;32m~\\anaconda3\\envs\\logica\\lib\\site-packages\\ortools\\linear_solver\\pywraplp.py:495\u001b[0m, in \u001b[0;36mSolver.Sum\u001b[1;34m(self, expr_array)\u001b[0m\n\u001b[0;32m    494\u001b[0m \u001b[38;5;28;01mdef\u001b[39;00m \u001b[38;5;21mSum\u001b[39m(\u001b[38;5;28mself\u001b[39m, expr_array):\n\u001b[1;32m--> 495\u001b[0m   result \u001b[38;5;241m=\u001b[39m \u001b[43mSumArray\u001b[49m\u001b[43m(\u001b[49m\u001b[43mexpr_array\u001b[49m\u001b[43m)\u001b[49m\n\u001b[0;32m    496\u001b[0m   \u001b[38;5;28;01mreturn\u001b[39;00m result\n",
      "File \u001b[1;32m~\\anaconda3\\envs\\logica\\lib\\site-packages\\ortools\\linear_solver\\linear_solver_natural_api.py:209\u001b[0m, in \u001b[0;36mSumArray.__init__\u001b[1;34m(self, array)\u001b[0m\n\u001b[0;32m    208\u001b[0m \u001b[38;5;28;01mdef\u001b[39;00m \u001b[38;5;21m__init__\u001b[39m(\u001b[38;5;28mself\u001b[39m, array):\n\u001b[1;32m--> 209\u001b[0m   \u001b[38;5;28mself\u001b[39m\u001b[38;5;241m.\u001b[39m__array \u001b[38;5;241m=\u001b[39m [CastToLinExp(elem) \u001b[38;5;28;01mfor\u001b[39;00m elem \u001b[38;5;129;01min\u001b[39;00m array]\n",
      "File \u001b[1;32m~\\anaconda3\\envs\\logica\\lib\\site-packages\\ortools\\linear_solver\\linear_solver_natural_api.py:209\u001b[0m, in \u001b[0;36m<listcomp>\u001b[1;34m(.0)\u001b[0m\n\u001b[0;32m    208\u001b[0m \u001b[38;5;28;01mdef\u001b[39;00m \u001b[38;5;21m__init__\u001b[39m(\u001b[38;5;28mself\u001b[39m, array):\n\u001b[1;32m--> 209\u001b[0m   \u001b[38;5;28mself\u001b[39m\u001b[38;5;241m.\u001b[39m__array \u001b[38;5;241m=\u001b[39m [CastToLinExp(elem) \u001b[38;5;28;01mfor\u001b[39;00m elem \u001b[38;5;129;01min\u001b[39;00m array]\n",
      "Cell \u001b[1;32mIn[6], line 16\u001b[0m, in \u001b[0;36m<genexpr>\u001b[1;34m(.0)\u001b[0m\n\u001b[0;32m     14\u001b[0m \u001b[38;5;28;01mfor\u001b[39;00m t \u001b[38;5;129;01min\u001b[39;00m \u001b[38;5;28mrange\u001b[39m(T):\n\u001b[0;32m     15\u001b[0m     \u001b[38;5;28;01mif\u001b[39;00m(t\u001b[38;5;241m%\u001b[39m\u001b[38;5;241m3\u001b[39m) \u001b[38;5;241m==\u001b[39m \u001b[38;5;241m0\u001b[39m:\n\u001b[1;32m---> 16\u001b[0m         solver\u001b[38;5;241m.\u001b[39mAdd(solver\u001b[38;5;241m.\u001b[39mSum(\u001b[43mx\u001b[49m\u001b[43m[\u001b[49m\u001b[43mn\u001b[49m\u001b[43m,\u001b[49m\u001b[43mt\u001b[49m\u001b[43m]\u001b[49m \u001b[38;5;28;01mfor\u001b[39;00m n \u001b[38;5;129;01min\u001b[39;00m \u001b[38;5;28mrange\u001b[39m(Nmax)) \u001b[38;5;241m>\u001b[39m\u001b[38;5;241m=\u001b[39m \u001b[38;5;241m1.3\u001b[39m\u001b[38;5;241m*\u001b[39mN )\n\u001b[0;32m     17\u001b[0m     \u001b[38;5;28;01melse\u001b[39;00m:\n\u001b[0;32m     18\u001b[0m         solver\u001b[38;5;241m.\u001b[39mAdd(solver\u001b[38;5;241m.\u001b[39mSum(x[n,t] \u001b[38;5;28;01mfor\u001b[39;00m n \u001b[38;5;129;01min\u001b[39;00m \u001b[38;5;28mrange\u001b[39m(Nmax)) \u001b[38;5;241m>\u001b[39m\u001b[38;5;241m=\u001b[39m N)\n",
      "\u001b[1;31mKeyError\u001b[0m: (3, 0)"
     ]
    }
   ],
   "source": [
    "from ortools.linear_solver import pywraplp\n",
    "\n",
    "solver = pywraplp.Solver.CreateSolver('SCIP')\n",
    "\n",
    "N = 3 \n",
    "Nmax = 3*N\n",
    "T = 3*7\n",
    "x = {}\n",
    "\n",
    "for n in range(N):\n",
    "    for t in range(T):\n",
    "        x[n,t] = solver.BoolVar(f\"x[{n},{t}]\")\n",
    "\n",
    "for t in range(T):\n",
    "    if(t%3) == 0:\n",
    "        solver.Add(solver.Sum(x[n,t] for n in range(Nmax)) >= 1.3*N )\n",
    "    else:\n",
    "        solver.Add(solver.Sum(x[n,t] for n in range(Nmax)) >= N)\n",
    "\n",
    "D = 7\n",
    "f = {}\n",
    "for n in range(Nmax):\n",
    "    for d in range(D):\n",
    "        f[n,d] = solver.BoolVar(f\"x[{n},{t}]\")\n",
    "\n",
    "for n in range(nMax):\n",
    "    for d in range(D):\n",
    "        for t in range(2):\n",
    "            solver.Add(f[n,d] >= x[n,3*d+t])\n",
    "\n",
    "status = solver.Solve()\n",
    "if status == pywraplp.Solver.OPTIMAL:\n",
    "    for n,t in x.keys():\n",
    "        print(f\"x[{n},{t}] = \", round(x[n,t].solution_value()))\n",
    "    \n",
    "    print(\"objectivo = \",round(solver.Objective().Value()))\n",
    "\n",
    "else:\n",
    "    print(\"No solution found\")\n",
    "        "
   ]
  }
 ],
 "metadata": {
  "kernelspec": {
   "display_name": "Python 3 (ipykernel)",
   "language": "python",
   "name": "python3"
  },
  "language_info": {
   "codemirror_mode": {
    "name": "ipython",
    "version": 3
   },
   "file_extension": ".py",
   "mimetype": "text/x-python",
   "name": "python",
   "nbconvert_exporter": "python",
   "pygments_lexer": "ipython3",
   "version": "3.10.13"
  }
 },
 "nbformat": 4,
 "nbformat_minor": 5
}
